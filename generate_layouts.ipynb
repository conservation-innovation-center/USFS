{
 "cells": [
  {
   "cell_type": "code",
   "execution_count": 4,
   "metadata": {},
   "outputs": [],
   "source": [
    "import arcpy\n",
    "import pandas as pd\n",
    "import os\n",
    "import csv\n",
    "import subprocess\n",
    "from time import sleep\n"
   ]
  },
  {
   "cell_type": "code",
   "execution_count": 5,
   "metadata": {},
   "outputs": [],
   "source": [
    "\n",
    "def set_years(cf):\n",
    "    lu_tables = r\"M:\\code\\landuse\\lookup_tables\"\n",
    "    lc_dates = f\"{lu_tables}/landcover_dates.csv\" # T1 and T2 by cofips\n",
    "\n",
    "    # read in years for county\n",
    "    dates = pd.read_csv(lc_dates)\n",
    "    dates = dates.set_index('co_fips')\n",
    "    global T1_yr\n",
    "    T1_yr = int(dates.loc[cf, 'T1'])\n",
    "    global T2_yr\n",
    "    T2_yr = int(dates.loc[cf, 'T2'])\n",
    "    del dates\n",
    "    return T1_yr, T2_yr\n",
    "\n",
    "def MakeIterDir(parentDir, iterDir):\n",
    "    \"\"\"\n",
    "    make a new folder in parentDir with the same name, indicated by iterDir, and the next iteration number\n",
    "    \"\"\"\n",
    "\n",
    "    tnums = []\n",
    "    for dir in os.listdir(parentDir):\n",
    "        if iterDir in dir and len(dir) < 7:\n",
    "            tnums.append(int(dir.replace(iterDir,\"\")))\n",
    "\n",
    "    latestBN = f\"{iterDir}{max(tnums)}\"\n",
    "    latestDir = os.path.join(parentDir,latestBN)\n",
    "    latestDirNFiles = len([name for name in os.listdir(latestDir) if os.path.isfile(os.path.join(latestDir, name))])\n",
    "\n",
    "    \n",
    "    if latestDirNFiles == 0:\n",
    "        # if the latest iteration directory is empty, set at iteration output directory\n",
    "        LatestIterationDirectory = latestDir\n",
    "        return LatestIterationDirectory\n",
    "    else:\n",
    "        #Otherwise create a new iteration directory\n",
    "        NewIterDir = os.path.join(parentDir,f\"{iterDir}{max(tnums)+1}\")\n",
    "        os.mkdir(NewIterDir)\n",
    "        return NewIterDir"
   ]
  },
  {
   "cell_type": "code",
   "execution_count": 6,
   "metadata": {},
   "outputs": [],
   "source": [
    "hex_ac = '100ac'\n",
    "aprx = arcpy.mp.ArcGISProject(\"CURRENT\")\n",
    "map = aprx.listMaps(f'Map1000ac')[0] #mapframe is Map1000ac for both 1000 and 100 acre hexes\n",
    "LO = aprx.listLayouts('Layout2')[0]\n",
    "lyt = aprx.listLayouts('Layout2')[0]\n",
    "\n",
    "water_poly = r\"M:\\projects\\data_processing\\data_processing.gdb/bay_and_ocean\"\n",
    "bay_poly = \"M:\\data\\BayEstuary\\Chesapeake_Bay_Alb.shp\"\n",
    "if hex_ac == \"100ac\":\n",
    "    symb_lyr = r\"M:\\projects\\tc_fact_sheet\\symbology\\100m_hexsym_230224.lyrx\"\n",
    "if hex_ac == \"1000ac\":\n",
    "    symb_lyr = r\"M:\\projects\\tc_fact_sheet\\symbology\\hexsym_1ac_updated_colors_230224.lyrx\"\n",
    "bound_symb = r\"M:\\projects\\tc_fact_sheet\\symbology\\1pt_hollow_70pctBLK_bound.lyrx\"\n",
    "boundPath = r\"J:\\GIS\\CBP_Obj_1\\data\\county_sets\\tl_2017_bay_county.shp\"\n",
    "\n",
    "\n",
    "#hide all layers\n",
    "for lyr in map.listLayers():\n",
    "    lyr.visible = False\n",
    "\n",
    "base_lyr = map.listLayers(\"Light Gray Base\")[0]\n",
    "base_lyr.visible = True"
   ]
  },
  {
   "cell_type": "code",
   "execution_count": null,
   "metadata": {},
   "outputs": [],
   "source": []
  },
  {
   "cell_type": "code",
   "execution_count": null,
   "metadata": {},
   "outputs": [],
   "source": []
  },
  {
   "cell_type": "code",
   "execution_count": null,
   "metadata": {},
   "outputs": [],
   "source": []
  },
  {
   "cell_type": "code",
   "execution_count": null,
   "metadata": {
    "scrolled": true
   },
   "outputs": [],
   "source": []
  },
  {
   "cell_type": "code",
   "execution_count": 9,
   "metadata": {},
   "outputs": [
    {
     "name": "stdout",
     "output_type": "stream",
     "text": [
      "bedf_51515 hex_lyr does not exist in Map1000ac\n",
      "bedf_51515\n",
      "wash_11001 hex_lyr does not exist in Map1000ac\n",
      "wash_11001\n",
      "lanc_51103 hex_lyr does not exist in Map1000ac\n",
      "lanc_51103\n",
      "           206/206\n",
      "['bedf_51515 hex_lyr does not exist in Map1000ac', 'bedf_51515 hex_lyr failed symbolize', 'wash_11001 hex_lyr does not exist in Map1000ac', 'wash_11001 hex_lyr failed symbolize', 'lanc_51103 hex_lyr does not exist in Map1000ac', 'lanc_51103 hex_lyr failed symbolize']\n",
      "Complete! Outputs are located at... M:/projects/tc_fact_sheet/map_exports/auto\\test33\n"
     ]
    }
   ],
   "source": [
    "lcdates_csv = r\"M:\\projects\\tc_fact_sheet\\data\\county_list_legendloc.csv\"\n",
    "codf = pd.read_csv(lcdates_csv)\n",
    "#pandas upgrade required to use .query, PROPY env does not like that version \n",
    "omit = ['wash_11001', 'bedf_51515']\n",
    "# codf = codf[~codf['cofips'].isin(omit)]\n",
    "# codf = codf[codf.Size.isin(['s','xs'])]\n",
    "# codf = codf[codf['cofips'].isin(['math_51115'])]\n",
    "len(codf)\n",
    "                  \n",
    "pngDIR = \"M:/projects/tc_fact_sheet/map_exports/auto\"\n",
    "IterationDir = MakeIterDir(pngDIR, \"test\")\n",
    "\n",
    "fail_list = []\n",
    "counter = 0\n",
    "# small_counties = codf[codf.Size.isin(['s','xs'])] # this is now handed by the hex_ac variable\n",
    "for index, row in codf.iterrows():\n",
    "    counter += 1\n",
    "#     if counter > 3:\n",
    "#         break\n",
    "    for ext_hex in map.listLayers(f\"*_hex_tajoined3\"):\n",
    "        map.removeLayer(ext_hex)\n",
    "    cf = row['cofips']\n",
    "    T1 = row['T1']\n",
    "    T2 = row['T2']\n",
    "    QA = row['QA']\n",
    "    LegendLoc = row['Legend']\n",
    "    size = row['Size']\n",
    "    if size in ['s','xs']:\n",
    "        hex_ac = \"100ac\"\n",
    "        hex_query = r\"all_lu > ( 404800/ 2) And wat_lu < (all_lu* 0.9)\"\n",
    "        hexta = f\"M:/projects/tc_fact_sheet/data/prod/{cf}_100ac/{cf}_hex_tajoined3.shp\"\n",
    "    else:\n",
    "        hex_ac = \"1000ac\"\n",
    "        hex_query = r\"all_lu > ( 4046000/ 2) And wat_lu < (all_lu* 0.9)\"\n",
    "        hexta = f\"M:/projects/tc_fact_sheet/data/prod/{cf}/{cf}_hex_tajoined3.shp\"\n",
    "        \n",
    "    FIPS = cf.split('_')[1]\n",
    "\n",
    "    print(f\"{cf} {counter}/{len(codf)}\", end='\\r')\n",
    "\n",
    "    FIPS = cf.split('_')[1]\n",
    "        \n",
    "    try:\n",
    "\n",
    "        map.addDataFromPath(hexta)\n",
    "        hex_lyr = map.listLayers(f\"{cf}_hex_tajoined3\")[0] # FIND HEX LAYER IF IT EXISTS\n",
    "        hex_lyr.visible = True\n",
    "        desc = arcpy.Describe(hex_lyr)\n",
    "        flds = desc.fields\n",
    "\n",
    "\n",
    "        arcpy.SelectLayerByAttribute_management(hex_lyr, \"CLEAR_SELECTION\")\n",
    "        hex_lyr.definitionQuery = hex_query\n",
    "    except:\n",
    "        msg = f\"{cf} hex_lyr does not exist in {map.name}\"\n",
    "        print(msg)\n",
    "        fail_list.append(msg)\n",
    "        pass\n",
    "    try:\n",
    "        map.addDataFromPath(boundPath)\n",
    "        bound_lyr = map.listLayers(f\"tl_2017_bay_county\")[0]\n",
    "        arcpy.management.ApplySymbologyFromLayer(bound_lyr, bound_symb)\n",
    "        bound_lyr.definitionQuery = f\"GEOID = '{FIPS}'\"\n",
    "\n",
    "    except:\n",
    "        msg2 = f\"{cf} does not exist in bound_lyr\"\n",
    "        print(msg2)\n",
    "        fail_list.append(msg2)\n",
    "        hex_lyr.visible = False\n",
    "        pass\n",
    "\n",
    "    try:\n",
    "        arcpy.management.ApplySymbologyFromLayer(hex_lyr, symb_lyr, \"VALUE_FIELD tc_chg tc_chg\", \"MAINTAIN\")\n",
    "    except:\n",
    "        print(cf)\n",
    "        msg = f'{cf} hex_lyr failed symbolize'\n",
    "        fail_list.append(msg)\n",
    "\n",
    "    mf = lyt.listElements(\"MAPFRAME_ELEMENT\")[0]\n",
    "    # IF PICTURES ARE RE-ORDERED IN LAYOUT CONTENTS THIS WILL GET CONFUSED.\n",
    "\n",
    "\n",
    "    mf.camera.setExtent(mf.getLayerExtent(bound_lyr, False, True))\n",
    "    old_scale = mf.camera.scale\n",
    "    \n",
    "    if hex_ac == '1000ac':\n",
    "        if LegendLoc == 'r':\n",
    "            cur_legend = 'Legend_BR'\n",
    "        elif LegendLoc == 'l':\n",
    "            cur_legend = 'Legend_BL'\n",
    "        elif LegendLoc == 'b':\n",
    "            mf.camera.scale = old_scale*1.2\n",
    "            mf.camera.Y += -4000\n",
    "            cur_legend = 'Legend_BM'\n",
    "            \n",
    "    if hex_ac == '100ac':\n",
    "        if LegendLoc == 'r':\n",
    "            cur_legend = 'Legend_BR_tenth_ac'\n",
    "        if LegendLoc == 'l':\n",
    "            cur_legend = 'Legend_BL_tenth_ac'\n",
    "        if LegendLoc == 'b':\n",
    "            mf.camera.scale = old_scale*1.1\n",
    "            mf.camera.Y += -500\n",
    "            cur_legend = 'Legend_BM_tenth_ac'\n",
    "    \n",
    "    legend_list = lyt.listElements('PICTURE_ELEMENT')\n",
    "    for legend in legend_list:\n",
    "        if legend.name == cur_legend:\n",
    "            legend.visible = True\n",
    "        else:\n",
    "            legend.visible = False\n",
    "\n",
    "    lyt.exportToPNG(f\"{IterationDir}/{cf}_hexmap\",resolution=300)\n",
    "\n",
    "    map.removeLayer(hex_lyr)\n",
    "    map.removeLayer(bound_lyr)\n",
    "\n",
    "print('          ')\n",
    "print(fail_list)\n",
    "subprocess.Popen(f'explorer /select,{IterationDir}')\n",
    "print(f\"Complete! Outputs are located at... {IterationDir}\")"
   ]
  },
  {
   "cell_type": "code",
   "execution_count": 83,
   "metadata": {},
   "outputs": [],
   "source": []
  },
  {
   "cell_type": "code",
   "execution_count": null,
   "metadata": {
    "scrolled": false
   },
   "outputs": [],
   "source": []
  },
  {
   "cell_type": "code",
   "execution_count": 2,
   "metadata": {},
   "outputs": [
    {
     "ename": "AttributeError",
     "evalue": "type object 'map' has no attribute 'addDataFromPath'",
     "output_type": "error",
     "traceback": [
      "\u001b[0;31m---------------------------------------------------------------------------\u001b[0m\n\u001b[0;31mAttributeError\u001b[0m                            Traceback (most recent call last)",
      "In  \u001b[0;34m[2]\u001b[0m:\nLine \u001b[0;34m3\u001b[0m:     \u001b[36mmap\u001b[39;49;00m.addDataFromPath(x_hexta)\n",
      "\u001b[0;31mAttributeError\u001b[0m: type object 'map' has no attribute 'addDataFromPath'\n\u001b[0;31m---------------------------------------------------------------------------\u001b[0m"
     ]
    }
   ],
   "source": [
    "xcf = \"alex_51510\"\n",
    "x_hexta = f\"M:/projects/tc_fact_sheet/data/prod/{xcf}_100ac/{xcf}_hex_tajoined3.shp\"\n",
    "map.addDataFromPath(x_hexta)\n",
    "x_lyr = map.listLayers(f\"{xcf}_hex_tajoined3\")[0]\n",
    "print(x_lyr.name)\n",
    "x_lyr.definitionQuery = \"all_lu > ( 4046000/ 2) And wat_lu < (all_lu* 0.9)\"\n",
    "mf.camera.setExtent(mf.getLayerExtent(x_lyr, False, True))"
   ]
  },
  {
   "cell_type": "code",
   "execution_count": 18,
   "metadata": {},
   "outputs": [],
   "source": [
    "hex_query = \"all_lu > ( 404800/ 2) And wat_lu < (all_lu* 0.9)\"\n",
    "x_lyr.definitionQuery = hex_query\n"
   ]
  },
  {
   "cell_type": "code",
   "execution_count": 5,
   "metadata": {},
   "outputs": [
    {
     "data": {
      "text/plain": [
       "True"
      ]
     },
     "execution_count": 5,
     "metadata": {},
     "output_type": "execute_result"
    }
   ],
   "source": []
  },
  {
   "cell_type": "code",
   "execution_count": null,
   "metadata": {},
   "outputs": [],
   "source": []
  },
  {
   "cell_type": "code",
   "execution_count": 160,
   "metadata": {},
   "outputs": [],
   "source": []
  },
  {
   "cell_type": "code",
   "execution_count": null,
   "metadata": {
    "scrolled": true
   },
   "outputs": [],
   "source": [
    "\n"
   ]
  },
  {
   "cell_type": "code",
   "execution_count": 194,
   "metadata": {},
   "outputs": [],
   "source": []
  },
  {
   "cell_type": "code",
   "execution_count": 13,
   "metadata": {},
   "outputs": [],
   "source": [
    "hex_ac = '100ac'\n",
    "LegendLoc = 'r'\n",
    "\n",
    "if hex_ac == '1000ac':\n",
    "    if LegendLoc == 'r':\n",
    "        cur_legend = 'Legend_BR'\n",
    "    elif LegendLoc == 'l':\n",
    "        cur_legend = 'Legend_BL'\n",
    "    elif LegendLoc == 'b':\n",
    "        mf.camera.scale = old_scale*1.2\n",
    "        mf.camera.Y += -4000\n",
    "        cur_legend = 'Legend_BM'\n",
    "\n",
    "if hex_ac == '100ac':\n",
    "    if LegendLoc == 'r':\n",
    "        cur_legend = 'Legend_BR_tenth_ac'\n",
    "    if LegendLoc == 'l':\n",
    "        cur_legend = 'Legend_BL_tenth_ac'\n",
    "    if LegendLoc == 'b':\n",
    "        mf.camera.scale = old_scale*1.1\n",
    "        mf.camera.Y += -500\n",
    "        cur_legend = 'Legend_BM_tenth_ac'\n",
    "\n",
    "legend_list = lyt.listElements('PICTURE_ELEMENT')\n",
    "for legend in legend_list:\n",
    "    if legend.name == cur_legend:\n",
    "        legend.visible = True\n",
    "    else:\n",
    "        legend.visible = False"
   ]
  },
  {
   "cell_type": "code",
   "execution_count": 12,
   "metadata": {},
   "outputs": [],
   "source": [
    "mf = lyt.listElements(\"MAPFRAME_ELEMENT\")[0]"
   ]
  },
  {
   "cell_type": "code",
   "execution_count": 184,
   "metadata": {},
   "outputs": [],
   "source": []
  },
  {
   "cell_type": "code",
   "execution_count": null,
   "metadata": {},
   "outputs": [],
   "source": []
  },
  {
   "cell_type": "code",
   "execution_count": null,
   "metadata": {},
   "outputs": [],
   "source": []
  },
  {
   "cell_type": "code",
   "execution_count": 56,
   "metadata": {},
   "outputs": [
    {
     "name": "stdout",
     "output_type": "stream",
     "text": [
      "'Legend_BM_tenth_ac'\n",
      "'Legend_BL_tenth_ac'\n",
      "'Legend_BR_tenth_ac'\n",
      "'Legend_BM'\n",
      "'Legend_BL'\n",
      "'Legend_BR'\n"
     ]
    }
   ],
   "source": []
  },
  {
   "cell_type": "code",
   "execution_count": 54,
   "metadata": {},
   "outputs": [],
   "source": [
    "\n",
    "legend_list = lyt.listElements('PICTURE_ELEMENT')\n",
    "for legend in legend_list:\n",
    "    if legend.name == cur_legend:\n",
    "        legend.visible = True\n",
    "    else:\n",
    "        legend.visible = False"
   ]
  }
 ],
 "metadata": {
  "kernelspec": {
   "display_name": "ArcGISPro",
   "language": "Python",
   "name": "python3"
  },
  "language_info": {
   "file_extension": ".py",
   "name": "python",
   "version": "3"
  },
  "vscode": {
   "interpreter": {
    "hash": "16781b3b6eec676e6c8bb81d0e898a4b0706d5d36568974f181d7d925ef2a2cd"
   }
  }
 },
 "nbformat": 4,
 "nbformat_minor": 2
}
