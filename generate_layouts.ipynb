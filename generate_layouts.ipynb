{
 "cells": [
  {
   "cell_type": "code",
   "execution_count": 3,
   "metadata": {},
   "outputs": [],
   "source": [
    "import arcpy\n",
    "import pandas as pd\n",
    "import os\n",
    "import csv\n",
    "import subprocess\n",
    "from time import sleep\n"
   ]
  },
  {
   "cell_type": "code",
   "execution_count": 4,
   "metadata": {},
   "outputs": [],
   "source": [
    "\n",
    "def set_years(cf):\n",
    "    lu_tables = r\"M:\\code\\landuse\\lookup_tables\"\n",
    "    lc_dates = f\"{lu_tables}/landcover_dates.csv\" # T1 and T2 by cofips\n",
    "\n",
    "    # read in years for county\n",
    "    dates = pd.read_csv(lc_dates)\n",
    "    dates = dates.set_index('co_fips')\n",
    "    global T1_yr\n",
    "    T1_yr = int(dates.loc[cf, 'T1'])\n",
    "    global T2_yr\n",
    "    T2_yr = int(dates.loc[cf, 'T2'])\n",
    "    del dates\n",
    "    return T1_yr, T2_yr\n",
    "\n",
    "def MakeIterDir(parentDir, iterDir):\n",
    "    \"\"\"\n",
    "    make a new folder in parentDir with the same name, indicated by iterDir, and the next iteration number\n",
    "    \"\"\"\n",
    "\n",
    "    tnums = []\n",
    "    for dir in os.listdir(parentDir):\n",
    "        if iterDir in dir and len(dir) < 7:\n",
    "            tnums.append(int(dir.replace(iterDir,\"\")))\n",
    "\n",
    "    latestBN = f\"{iterDir}{max(tnums)}\"\n",
    "    latestDir = os.path.join(parentDir,latestBN)\n",
    "    latestDirNFiles = len([name for name in os.listdir(latestDir) if os.path.isfile(os.path.join(latestDir, name))])\n",
    "\n",
    "    \n",
    "    if latestDirNFiles == 0:\n",
    "        # if the latest iteration directory is empty, set at iteration output directory\n",
    "        LatestIterationDirectory = latestDir\n",
    "        return LatestIterationDirectory\n",
    "    else:\n",
    "        #Otherwise create a new iteration directory\n",
    "        NewIterDir = os.path.join(parentDir,f\"{iterDir}{max(tnums)+1}\")\n",
    "        os.mkdir(NewIterDir)\n",
    "        return NewIterDir"
   ]
  },
  {
   "cell_type": "code",
   "execution_count": 23,
   "metadata": {},
   "outputs": [],
   "source": [
    "aprx = arcpy.mp.ArcGISProject(\"CURRENT\")\n",
    "map = aprx.listMaps('Map1000ac')[0] #mapframe is Map1000ac\n",
    "LO = aprx.listLayouts('Layout2')[0]\n",
    "lyt = aprx.listLayouts('Layout2')[0]\n",
    "\n",
    "water_poly = r\"M:\\projects\\data_processing\\data_processing.gdb/bay_and_ocean\"\n",
    "bay_poly = \"M:\\data\\BayEstuary\\Chesapeake_Bay_Alb.shp\"\n",
    "symb_lyr = r\"M:\\projects\\tc_fact_sheet\\symbology\\hexsym_1ac_updated_colors_230130.lyrx\"\n",
    "bound_symb = r\"M:\\projects\\tc_fact_sheet\\symbology\\1pt_hollow_70pctBLK_bound.lyrx\"\n",
    "boundPath = r\"J:\\GIS\\CBP_Obj_1\\data\\county_sets\\tl_2017_bay_county.shp\"\n",
    "\n",
    "\n",
    "#hide all layers\n",
    "for lyr in map.listLayers():\n",
    "    lyr.visible = False\n",
    "    #\n",
    "base_lyr = map.listLayers(\"Light Gray Base\")[0]\n",
    "base_lyr.visible = True"
   ]
  },
  {
   "cell_type": "code",
   "execution_count": 6,
   "metadata": {},
   "outputs": [],
   "source": []
  },
  {
   "cell_type": "code",
   "execution_count": 24,
   "metadata": {},
   "outputs": [
    {
     "data": {
      "text/plain": [
       "204"
      ]
     },
     "execution_count": 24,
     "metadata": {},
     "output_type": "execute_result"
    }
   ],
   "source": [
    "lcdates_csv = r\"M:\\projects\\tc_fact_sheet\\data\\county_list_legendloc.csv\"\n",
    "codf = pd.read_csv(lcdates_csv)\n",
    "#pandas upgrade required to use .query, PROPY env does not like that version \n",
    "omit = ['wash_11001', 'bedf_51515']\n",
    "codf = codf[~codf['cofips'].isin(omit)]\n",
    "len(codf)"
   ]
  },
  {
   "cell_type": "code",
   "execution_count": 26,
   "metadata": {
    "scrolled": true
   },
   "outputs": [
    {
     "name": "stdout",
     "output_type": "stream",
     "text": [
      "lanc_51103 hex_lyr does not exist in Map1000ac\n",
      "lanc_51103\n",
      "           204/204\n",
      "['lanc_51103 hex_lyr does not exist in Map1000ac', 'lanc_51103 hex_lyr failed symbolize']\n",
      "Complete! Outputs are located at... M:/projects/tc_fact_sheet/map_exports/auto\\test19\n"
     ]
    }
   ],
   "source": [
    "#WITH SAFETIES\n",
    "\n",
    "pngDIR = \"M:/projects/tc_fact_sheet/map_exports/auto\"\n",
    "IterationDir = MakeIterDir(pngDIR, \"test\")\n",
    "\n",
    "fail_list = []\n",
    "counter = 0\n",
    "\n",
    "for index, row in codf.iterrows():\n",
    "    cf = row['cofips']\n",
    "    T1 = row['T1']\n",
    "    T1 = row['T2']\n",
    "    LegendLoc = row['Legend']\n",
    "    size = row['Size']\n",
    "\n",
    "    FIPS = cf.split('_')[1]\n",
    "    counter += 1\n",
    "#     if counter > 15:\n",
    "#         break\n",
    "    print(f\"{cf} {counter}/{len(codf)}\", end='\\r')\n",
    "\n",
    "    FIPS = cf.split('_')[1]\n",
    "    try:\n",
    "        hexta = f\"M:/projects/tc_fact_sheet/data/prod/{cf}/{cf}_hex_tajoined3.shp\"\n",
    "        map.addDataFromPath(hexta)\n",
    "        hex_lyr = map.listLayers(f\"{cf}_hex_tajoined3\")[0] # FIND HEX LAYER IF IT EXISTS\n",
    "        hex_lyr.visible = True\n",
    "        desc = arcpy.Describe(hex_lyr)\n",
    "        flds = desc.fields\n",
    "        \n",
    "\n",
    "        arcpy.SelectLayerByAttribute_management(hex_lyr, \"CLEAR_SELECTION\")\n",
    "        hex_lyr.definitionQuery = \"all_lu > ( 4046000/ 2) And wat_lu < (all_lu* 0.9)\"\n",
    "    except:\n",
    "        msg = f\"{cf} hex_lyr does not exist in {map.name}\"\n",
    "        print(msg)\n",
    "        fail_list.append(msg)\n",
    "        pass\n",
    "    try:\n",
    "        map.addDataFromPath(boundPath)\n",
    "        bound_lyr = map.listLayers(f\"tl_2017_bay_county\")[0]\n",
    "        arcpy.management.ApplySymbologyFromLayer(bound_lyr, bound_symb)\n",
    "        bound_lyr.definitionQuery = f\"GEOID = '{FIPS}'\"\n",
    "        \n",
    "    except:\n",
    "        msg2 = f\"{cf} does not exist in bound_lyr\"\n",
    "        print(msg2)\n",
    "        fail_list.append(msg2)\n",
    "        hex_lyr.visible = False\n",
    "        pass\n",
    "\n",
    "    try:\n",
    "        arcpy.management.ApplySymbologyFromLayer(hex_lyr, symb_lyr, \"VALUE_FIELD tc_chg tc_chg\", \"MAINTAIN\")\n",
    "    except:\n",
    "        print(cf)\n",
    "        msg = f'{cf} hex_lyr failed symbolize'\n",
    "        fail_list.append(msg)\n",
    "\n",
    "    mf = lyt.listElements(\"MAPFRAME_ELEMENT\")[0]\n",
    "    # IF PICTURES ARE RE-ORDERED IN LAYOUT CONTENTS THIS WILL GET CONFUSED.\n",
    "\n",
    "    LBM = lyt.listElements('PICTURE_ELEMENT')[0] # bottom middle\n",
    "    LBL = lyt.listElements(\"PICTURE_ELEMENT\")[1] # bottom left\n",
    "    LBR = lyt.listElements(\"PICTURE_ELEMENT\")[2] # bottom right\n",
    "    mf.camera.setExtent(mf.getLayerExtent(bound_lyr, False, True))\n",
    "    old_scale = mf.camera.scale\n",
    "    if LegendLoc == 'r':\n",
    "        LBM.visible = False\n",
    "        LBR.visible = True\n",
    "        LBL.visible = False\n",
    "    elif LegendLoc == 'l':\n",
    "        LBM.visible = False\n",
    "        LBR.visible = False\n",
    "        LBL.visible = True\n",
    "    elif LegendLoc == 'b':\n",
    "        LBM.visible = True\n",
    "        LBR.visible = False\n",
    "        LBL.visible = False\n",
    "        mf.camera.scale = old_scale*1.2\n",
    "        mf.camera.Y += -4000\n",
    "        \n",
    "    lyt.exportToPNG(f\"{IterationDir}/{cf}_hexmap\",resolution=300)\n",
    "\n",
    "    map.removeLayer(hex_lyr)\n",
    "    map.removeLayer(bound_lyr)\n",
    "\n",
    "print('          ')\n",
    "print(fail_list)\n",
    "subprocess.Popen(f'explorer /select,{IterationDir}')\n",
    "print(f\"Complete! Outputs are located at... {IterationDir}\")"
   ]
  },
  {
   "cell_type": "code",
   "execution_count": null,
   "metadata": {},
   "outputs": [],
   "source": []
  },
  {
   "cell_type": "code",
   "execution_count": 83,
   "metadata": {},
   "outputs": [],
   "source": [
    "# for hl in map.listLayers(f\"*_hex_tajoined\"):\n",
    "#     hl.visible = False"
   ]
  },
  {
   "cell_type": "code",
   "execution_count": 38,
   "metadata": {
    "scrolled": false
   },
   "outputs": [
    {
     "ename": "TypeError",
     "evalue": "M:/projects/tc_fact_sheet/data/prod/kent_10001/kent_10001_hex_tajoined2.shp",
     "output_type": "error",
     "traceback": [
      "\u001b[0;31m---------------------------------------------------------------------------\u001b[0m\n\u001b[0;31mTypeError\u001b[0m                                 Traceback (most recent call last)",
      "In  \u001b[0;34m[38]\u001b[0m:\nLine \u001b[0;34m1\u001b[0m:     mf.camera.setExtent(mf.getLayerExtent(hexta, \u001b[34mFalse\u001b[39;49;00m, \u001b[34mTrue\u001b[39;49;00m))\n",
      "File \u001b[0;34mC:\\Program Files\\ArcGIS\\Pro\\Resources\\ArcPy\\arcpy\\_mp.py\u001b[0m, in \u001b[0;32mgetLayerExtent\u001b[0m:\nLine \u001b[0;34m2150\u001b[0m:  \u001b[34mreturn\u001b[39;49;00m convertArcObjectToPythonObject(\u001b[36mself\u001b[39;49;00m._arc_object.getLayerExtent(*gp_fixargs((layer, selection_only, symbolized_extent), \u001b[34mTrue\u001b[39;49;00m)))\n",
      "\u001b[0;31mTypeError\u001b[0m: M:/projects/tc_fact_sheet/data/prod/kent_10001/kent_10001_hex_tajoined2.shp\n\u001b[0;31m---------------------------------------------------------------------------\u001b[0m"
     ]
    }
   ],
   "source": [
    "\n",
    "\n",
    "mf.camera.setExtent(mf.getLayerExtent(, False, True))\n"
   ]
  },
  {
   "cell_type": "code",
   "execution_count": 16,
   "metadata": {},
   "outputs": [],
   "source": [
    "xcf = \"alle_36003\"\n",
    "x_hexta = f\"M:/projects/tc_fact_sheet/data/prod/{xcf}/{xcf}_hex_tajoined3.shp\"\n",
    "map.addDataFromPath(x_hexta)\n",
    "x_lyr = map.listLayers(f\"*_hex_tajoined3\")[0]\n",
    "x_lyr.name\n",
    "x_lyr.definitionQuery = \"all_lu > ( 4046000/ 2) And wat_lu < (all_lu* 0.9)\"\n",
    "mf.camera.setExtent(mf.getLayerExtent(x_lyr, False, True))"
   ]
  },
  {
   "cell_type": "code",
   "execution_count": 69,
   "metadata": {},
   "outputs": [],
   "source": [
    "legend = lyt.listElements(\"MAPFRAME_ELEMENT\")[0]"
   ]
  },
  {
   "cell_type": "code",
   "execution_count": 96,
   "metadata": {},
   "outputs": [
    {
     "ename": "AttributeError",
     "evalue": "'Extent' object has no attribute 'center'",
     "output_type": "error",
     "traceback": [
      "\u001b[0;31m---------------------------------------------------------------------------\u001b[0m\n\u001b[0;31mAttributeError\u001b[0m                            Traceback (most recent call last)",
      "In  \u001b[0;34m[96]\u001b[0m:\nLine \u001b[0;34m1\u001b[0m:     mf.getLayerExtent(x_lyr, \u001b[34mFalse\u001b[39;49;00m, \u001b[34mTrue\u001b[39;49;00m).center\n",
      "\u001b[0;31mAttributeError\u001b[0m: 'Extent' object has no attribute 'center'\n\u001b[0;31m---------------------------------------------------------------------------\u001b[0m"
     ]
    }
   ],
   "source": []
  },
  {
   "cell_type": "code",
   "execution_count": 21,
   "metadata": {},
   "outputs": [],
   "source": [
    "mf.camera.setExtent(mf.getLayerExtent(x_lyr, False, True))\n",
    "\n",
    "# rescale to make room for legend and move camera XY\n",
    "old_scale = mf.camera.scale\n",
    "mf.camera.scale = old_scale*1.2 \n",
    "\n",
    "# mf.camera.X += 1000\n",
    "mf.camera.Y += -4000"
   ]
  },
  {
   "cell_type": "code",
   "execution_count": 160,
   "metadata": {},
   "outputs": [],
   "source": [
    "neg= map.listLayers(f\"*neg_min_env\")[0]\n"
   ]
  },
  {
   "cell_type": "code",
   "execution_count": 161,
   "metadata": {
    "scrolled": true
   },
   "outputs": [
    {
     "data": {
      "text/plain": [
       "<arcpy._mp.Layer object at 0x0000016787079408>"
      ]
     },
     "execution_count": 161,
     "metadata": {},
     "output_type": "execute_result"
    }
   ],
   "source": [
    "neg.definitionQuery = "
   ]
  },
  {
   "cell_type": "code",
   "execution_count": 194,
   "metadata": {},
   "outputs": [],
   "source": []
  },
  {
   "cell_type": "code",
   "execution_count": 200,
   "metadata": {},
   "outputs": [],
   "source": [
    "# IF PICTURES ARE RE-ORDERED IN LAYOUT CONTENTS THIS WILL GET CONFUSED.\n",
    "\n",
    "LBM = lyt.listElements('PICTURE_ELEMENT')[0] # bottom middle\n",
    "LBL = lyt.listElements(\"PICTURE_ELEMENT\")[1] # bottom left\n",
    "LBR = lyt.listElements(\"PICTURE_ELEMENT\")[2] # bottom right\n",
    "\n",
    "if LegendLoc == 'r':\n",
    "    LBM.visible = False\n",
    "    LBR.visible = True\n",
    "    LBL.visible = False\n",
    "elif LegendLoc == 'l':\n",
    "    LBM.visible = False\n",
    "    LBR.visible = False\n",
    "    LBL.visible = True\n",
    "elif LegendLoc == 'b':\n",
    "    LBM.visible = True\n",
    "    LBR.visible = False\n",
    "    LBL.visible = False"
   ]
  },
  {
   "cell_type": "code",
   "execution_count": 181,
   "metadata": {},
   "outputs": [],
   "source": []
  },
  {
   "cell_type": "code",
   "execution_count": 184,
   "metadata": {},
   "outputs": [],
   "source": []
  },
  {
   "cell_type": "code",
   "execution_count": null,
   "metadata": {},
   "outputs": [],
   "source": [
    "# Ripped this out now that there is full T2LU tabulations, can calculate on the fly\n",
    "#         ALLWAT_exists = False #reset flag\n",
    "#         for fld in flds:\n",
    "#            if fld.name == 'ALLWAT':\n",
    "#                 ALLWAT_exists = True\n",
    "#         if not ALLWAT_exists:\n",
    "#             arcpy.management.AddField(hex_lyr, \"ALLWAT\", \"SHORT\", None, None, None, '', \"NULLABLE\", \"NON_REQUIRED\", '')\n",
    "#         arcpy.management.CalculateField(hex_lyr, \"ALLWAT\", \"0\", \"PYTHON3\", '', \"TEXT\", \"NO_ENFORCE_DOMAINS\")\n",
    "#         arcpy.management.SelectLayerByLocation(hex_lyr, \"COMPLETELY_WITHIN\", water_poly, \"0 Meters\", \"NEW_SELECTION\")\n",
    "#         arcpy.management.CalculateField(hex_lyr, \"ALLWAT\", \"1\", \"PYTHON3\", '', \"TEXT\", \"NO_ENFORCE_DOMAINS\")"
   ]
  },
  {
   "cell_type": "code",
   "execution_count": null,
   "metadata": {},
   "outputs": [],
   "source": []
  },
  {
   "cell_type": "code",
   "execution_count": 31,
   "metadata": {},
   "outputs": [
    {
     "data": {
      "text/plain": [
       "0     NaN\n",
       "1     NaN\n",
       "2     NaN\n",
       "3     NaN\n",
       "4     NaN\n",
       "       ..\n",
       "201   NaN\n",
       "202   NaN\n",
       "203   NaN\n",
       "204   NaN\n",
       "205   NaN\n",
       "Name: test, Length: 204, dtype: float64"
      ]
     },
     "execution_count": 31,
     "metadata": {},
     "output_type": "execute_result"
    }
   ],
   "source": []
  },
  {
   "cell_type": "code",
   "execution_count": 38,
   "metadata": {},
   "outputs": [
    {
     "data": {
      "text/html": [
       "<div>\n",
       "<style scoped>\n",
       "    .dataframe tbody tr th:only-of-type {\n",
       "        vertical-align: middle;\n",
       "    }\n",
       "\n",
       "    .dataframe tbody tr th {\n",
       "        vertical-align: top;\n",
       "    }\n",
       "\n",
       "    .dataframe thead th {\n",
       "        text-align: right;\n",
       "    }\n",
       "</style>\n",
       "<table border=\"1\" class=\"dataframe\">\n",
       "  <thead>\n",
       "    <tr style=\"text-align: right;\">\n",
       "      <th></th>\n",
       "      <th>T1</th>\n",
       "    </tr>\n",
       "    <tr>\n",
       "      <th>State</th>\n",
       "      <th></th>\n",
       "    </tr>\n",
       "  </thead>\n",
       "  <tbody>\n",
       "    <tr>\n",
       "      <th>DE</th>\n",
       "      <td>2013</td>\n",
       "    </tr>\n",
       "    <tr>\n",
       "      <th>MD</th>\n",
       "      <td>2013</td>\n",
       "    </tr>\n",
       "    <tr>\n",
       "      <th>NY</th>\n",
       "      <td>2013</td>\n",
       "    </tr>\n",
       "    <tr>\n",
       "      <th>PA</th>\n",
       "      <td>2013</td>\n",
       "    </tr>\n",
       "    <tr>\n",
       "      <th>VA</th>\n",
       "      <td>2014</td>\n",
       "    </tr>\n",
       "    <tr>\n",
       "      <th>WV</th>\n",
       "      <td>2014</td>\n",
       "    </tr>\n",
       "  </tbody>\n",
       "</table>\n",
       "</div>"
      ],
      "text/plain": [
       "         T1\n",
       "State      \n",
       "DE     2013\n",
       "MD     2013\n",
       "NY     2013\n",
       "PA     2013\n",
       "VA     2014\n",
       "WV     2014"
      ]
     },
     "execution_count": 38,
     "metadata": {},
     "output_type": "execute_result"
    }
   ],
   "source": [
    "test = codf.groupby(['State']).agg({'T1':'mean'})\n",
    "test"
   ]
  }
 ],
 "metadata": {
  "kernelspec": {
   "display_name": "ArcGISPro",
   "language": "Python",
   "name": "python3"
  },
  "language_info": {
   "file_extension": ".py",
   "name": "python",
   "version": "3"
  }
 },
 "nbformat": 4,
 "nbformat_minor": 2
}
